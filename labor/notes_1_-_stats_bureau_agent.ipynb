{
 "cells": [
  {
   "cell_type": "markdown",
   "metadata": {},
   "source": [
    "# The Statistics Bureau Agent\n",
    "####by Omar A. Guerrero, University of Oxford\n",
    "So far we have created a simple labor market where the only unemployment is the natural unemployment rate. Since our model has a detailed specification at the level of each agent and firm, it allow us to analyze several temporal and cross-sectional aspects of our artificial economy. In order to facilitate the analysis, we will develop a new class of agent: the statistics bureau. This agent will be in charge of performing surveys and census in our population. The implementation of the statistics bureau is not only a natural way to think about the data collection of our model, but it also a cleaner way to perform data collection for policy experiments in the future."
   ]
  },
  {
   "cell_type": "markdown",
   "metadata": {},
   "source": [
    "## Libraries\n",
    "We will add a plotting library: matplotlib"
   ]
  },
  {
   "cell_type": "code",
   "execution_count": 7,
   "metadata": {
    "collapsed": false
   },
   "outputs": [],
   "source": [
    "from __future__ import division # forces a division of integers to return a float (in order to avoid errors)\n",
    "%matplotlib inline\n",
    "import random as rd # tools to genrate random numbers and more\n",
    "import matplotlib.pyplot as plt # we will use this to visualize the model's output"
   ]
  },
  {
   "cell_type": "markdown",
   "metadata": {},
   "source": [
    "## Parameters"
   ]
  },
  {
   "cell_type": "code",
   "execution_count": 8,
   "metadata": {
    "collapsed": true
   },
   "outputs": [],
   "source": [
    "L = 1000 # number of workers\n",
    "N = 100 # number of firms\n",
    "Lambda = 0.1 # the exogenous source of unemployment, also known as the separation rate\n",
    "w = .8 # the wage generated (we will assume it to be fixed)\n",
    "max_t = 500 # maximum number of steps to be ran in the simulation"
   ]
  },
  {
   "cell_type": "markdown",
   "metadata": {},
   "source": [
    "## Agents"
   ]
  },
  {
   "cell_type": "markdown",
   "metadata": {},
   "source": [
    "### Workers"
   ]
  },
  {
   "cell_type": "code",
   "execution_count": 9,
   "metadata": {
    "collapsed": true
   },
   "outputs": [],
   "source": [
    "class Worker():\n",
    "    \n",
    "    # gives birth (initializes) to a single worker\n",
    "    def __init__(self, id, Lambda=Lambda, w=w, employer=None):\n",
    "        self.id = id # the id of the worker\n",
    "        self.Lambda = Lambda # the separation rate of the worker\n",
    "        self.w = w # the wage of the worker\n",
    "        self.employer = employer # the firm for which the agent works\n",
    "    \n",
    "    # checks if the agent works for a firm and returns False if she is unemployed and True otherwise\n",
    "    def is_employed(self):\n",
    "        return not self.employer==None\n",
    "    \n",
    "    # sets the wage\n",
    "    def set_wage(self, w):\n",
    "        self.w = w\n",
    "    \n",
    "    # sets the employer\n",
    "    def set_employer(self, firm):\n",
    "        self.employer = firm\n",
    "        \n",
    "    # specifies what the agent does in each step of the simulation\n",
    "    def step(self, t):\n",
    "        rand = rd.random() # draw a random number\n",
    "        if self.is_employed(): # check employment status\n",
    "            # the probability of becoming unemployed is the average of the separation rates of the worker and the firm.\n",
    "            # This is a bit of an arbitrary assumption but can be modified later. The point is to capture the effect\n",
    "            # that each counterpart has in the process of unemployment. Since we will assume homogenous agents, this\n",
    "            # specification does not change from simply assuming the general Lambda to be the only source of unemployment.\n",
    "            if rand < (self.Lambda + self.employer.Lambda)/2:\n",
    "                market.separation(self) # peform separation in the market\n",
    "        else:\n",
    "            firm = market.pick_firm() # pick a firm at random\n",
    "            wage = w # determine the wage\n",
    "            market.hiring(self, firm, wage, t) # perform the hiring in the market"
   ]
  },
  {
   "cell_type": "markdown",
   "metadata": {},
   "source": [
    "### Firms\n",
    "We add a new method that the firms use to compute their size."
   ]
  },
  {
   "cell_type": "code",
   "execution_count": 10,
   "metadata": {
    "collapsed": false
   },
   "outputs": [],
   "source": [
    "class Firm():\n",
    "    \n",
    "    # initializes the firm\n",
    "    def __init__(self, id, Lambda=Lambda):\n",
    "        self.id = id\n",
    "        self.Lambda = Lambda\n",
    "        self.book = {}\n",
    "    \n",
    "    # register a newly hired worker with her wage and the period of hiring\n",
    "    def hire(self, worker, wage, step):\n",
    "        self.book[worker] = (wage, step)\n",
    "    \n",
    "    # remove the separated worker from the book\n",
    "    def separate(self, worker):\n",
    "        self.book.pop(worker)\n",
    "    \n",
    "    # compute the size (in number of employees)\n",
    "    def size(self):\n",
    "        return len(self.book)\n",
    "    \n",
    "    # specifies what the firm does in each step of the simulation. For now it does nothing\n",
    "    def step(self, t):\n",
    "        return # do nothing"
   ]
  },
  {
   "cell_type": "markdown",
   "metadata": {},
   "source": [
    "### Market"
   ]
  },
  {
   "cell_type": "code",
   "execution_count": 11,
   "metadata": {
    "collapsed": true
   },
   "outputs": [],
   "source": [
    "class Market():\n",
    "    \n",
    "    # register a hiring in both the firm and the worker attributes\n",
    "    def hiring(self, worker, firm, wage, step):\n",
    "        worker.set_employer(firm)\n",
    "        worker.set_wage(w)\n",
    "        firm.hire(worker, wage, step)\n",
    "    \n",
    "    # register a separation in both the firm and the worker attributes\n",
    "    def separation(self, worker):\n",
    "        firm = worker.employer\n",
    "        firm.separate(worker)\n",
    "        worker.set_employer(None)\n",
    "        worker.set_wage(0)\n",
    "    \n",
    "    # pick a firm at random\n",
    "    def pick_firm(self):\n",
    "        return rd.choice(firms)"
   ]
  },
  {
   "cell_type": "markdown",
   "metadata": {},
   "source": [
    "### Statistics Bureau\n",
    "The statistics agent holds a dictionary where all the data structures will be stored. We can also implement a few methods to sun surveys and compute statistics about the entire population. At this point we will perform simple statistics and collect aggregate data. However, as we progress we will use the statistics bureau to collect micro-data  and visualize our synthetic panels."
   ]
  },
  {
   "cell_type": "code",
   "execution_count": 12,
   "metadata": {
    "collapsed": false
   },
   "outputs": [],
   "source": [
    "class Stats():\n",
    "    \n",
    "    # initializes the statistics bureau\n",
    "    def __init__(self):\n",
    "        self.data = {} # a dictionary that holds different data structures\n",
    "        self.data['u'] = 1 # the latest unemployment rate\n",
    "        self.data['ts_u'] = [] # list that stores the time series of the unemployment rate\n",
    "        \n",
    "    # counts the number of employed\n",
    "    def count_employed(self):\n",
    "        return sum([worker.is_employed() for worker in workers])\n",
    "    \n",
    "    # counts the number of unemployed\n",
    "    def count_unemployed(self):\n",
    "        return sum([not worker.is_employed() for worker in workers])\n",
    "    \n",
    "    # computes the unemployment rate\n",
    "    def unemployment_rate(self):\n",
    "        return self.count_unemployed()/L\n",
    "    \n",
    "    # computes the average wage\n",
    "    def average_wage(self):\n",
    "        return sum([worker.w for worker in workers if worker.is_employed()])/self.count_employed()\n",
    "    \n",
    "    # computes the average firm size\n",
    "    def average_firm_size(self):\n",
    "        return sum([firm.size() for firm in firms])/N\n",
    "    \n",
    "    # what the statistics bureau does every period\n",
    "    def step(self):\n",
    "        self.data['u'] = self.unemployment_rate()\n",
    "        self.data['ts_u'].append(self.data['u'])"
   ]
  },
  {
   "cell_type": "markdown",
   "metadata": {},
   "source": [
    "## Execution"
   ]
  },
  {
   "cell_type": "markdown",
   "metadata": {},
   "source": [
    "### Initialization"
   ]
  },
  {
   "cell_type": "code",
   "execution_count": 13,
   "metadata": {
    "collapsed": false
   },
   "outputs": [],
   "source": [
    "workers = [Worker(id) for id in range(L)] # list of workers parameterized acording to the Parameters section\n",
    "firms = [Firm(id) for id in range(N)] # list of firms parameterized acording to the Parameters section\n",
    "agents = workers + firms # make a joint list of workers and firms\n",
    "rd.shuffle(agents) # randomize the order to the agents in the list\n",
    "market = Market() # our market object\n",
    "stats = Stats() # our statistics bureau"
   ]
  },
  {
   "cell_type": "markdown",
   "metadata": {},
   "source": [
    "### Iteration\n",
    "We add a call to the statistics bureau step() method"
   ]
  },
  {
   "cell_type": "code",
   "execution_count": 14,
   "metadata": {
    "collapsed": false
   },
   "outputs": [],
   "source": [
    "for t in range(max_t):\n",
    "    [agent.step(t) for agent in agents]\n",
    "    stats.step() # the stats agent perform its duty"
   ]
  },
  {
   "cell_type": "markdown",
   "metadata": {},
   "source": [
    "## Testing\n",
    "Test the statistics bureau by calling some of its methods and printing the output. "
   ]
  },
  {
   "cell_type": "code",
   "execution_count": 15,
   "metadata": {
    "collapsed": false
   },
   "outputs": [
    {
     "name": "stdout",
     "output_type": "stream",
     "text": [
      "unemployment rate: 0.077\n",
      "unemployment+employment=L: True\n",
      "average wage: 0.8\n",
      "average firm size: 9.23\n"
     ]
    }
   ],
   "source": [
    "# compute unemployment rate\n",
    "print 'unemployment rate: ' + str(stats.unemployment_rate())\n",
    "\n",
    "# check that employment + unemployment adds up to L\n",
    "print 'unemployment+employment=L: ' + str(stats.count_employed() + stats.count_unemployed() == L)\n",
    "\n",
    "# compute average wage of those employed\n",
    "print 'average wage: ' + str(stats.average_wage())\n",
    "\n",
    "# compute average firm size\n",
    "print 'average firm size: ' + str(stats.average_firm_size())"
   ]
  },
  {
   "cell_type": "markdown",
   "metadata": {},
   "source": [
    "## Plotting\n",
    "Implement some basic plots using the data collected by the stats agent."
   ]
  },
  {
   "cell_type": "markdown",
   "metadata": {},
   "source": [
    "### Unemployment Rate\n",
    "Plot the evolution of the unemployment rate. Note that this model has a simple mathematical representation. That is, the number of unemployed people $U_t$ in period $t$ is the result of the previous employed who lost their jobs: $U_t=\\lambda (L_{t-1} - U_{t-1})$. In the steady state, the average level of unemployment does not change with time, so $U=\\lambda (L - U)$. We can normalize this expression by dividing by th labor force $L$ and denoting the normalized variables by lower case: $u=\\lambda (1 - u)$. Finally, we can solve for the unemployment rate $u$ and obtain the analytical prediction: $u=\\frac{\\lambda}{1+\\lambda}$. We test this prediction against the model output graphically in this plot."
   ]
  },
  {
   "cell_type": "code",
   "execution_count": 17,
   "metadata": {
    "collapsed": false
   },
   "outputs": [
    {
     "data": {
      "text/plain": [
       "<matplotlib.text.Text at 0x105130250>"
      ]
     },
     "execution_count": 17,
     "metadata": {},
     "output_type": "execute_result"
    },
    {
     "data": {
      "image/png": "[encoded data removed]",
      "text/plain": [
       "<matplotlib.figure.Figure at 0x104f911d0>"
      ]
     },
     "metadata": {},
     "output_type": "display_data"
    }
   ],
   "source": [
    "plt.plot(stats.data['ts_u'], linewidth=.5) # plot the time series collected by the stats agent\n",
    "plt.plot([Lambda/(1+Lambda) for i in range(max_t)], 'r', linewidth=3) # plot the analytical prediction\n",
    "#plt.ylim([min(stats.data['ts_u_rate'][1::]), max(stats.data['ts_u'][1::])])\n",
    "plt.xlabel('time')\n",
    "plt.ylabel('unemployment rate')\n",
    "plt.title('evolution of the unemployment rate')"
   ]
  },
  {
   "cell_type": "markdown",
   "metadata": {},
   "source": [
    "### Firm Size Distribution\n",
    "A histogram of the firm size distribution."
   ]
  },
  {
   "cell_type": "code",
   "execution_count": null,
   "metadata": {
    "collapsed": false
   },
   "outputs": [],
   "source": [
    "plt.hist([firm.size() for firm in firms]) # plot the time series collected by the stats agent\n",
    "plt.xlabel('number of employees')\n",
    "plt.ylabel('frequency')\n",
    "plt.title('firm size distribution')"
   ]
  },
  {
   "cell_type": "markdown",
   "metadata": {},
   "source": [
    "## Conclusion\n",
    "By implementing the stats agent, we were able to verify that the model is consistent with the analytical prediction of the stochastic process that governs the dynamics of this simple theory. The plotting library also facilitates the cross-sectional analysis of the firm population. With these tools in place, we can proceed to introduce other sources of unemployment. "
   ]
  }
 ],
 "metadata": {
  "kernelspec": {
   "display_name": "Python 2",
   "language": "python",
   "name": "python2"
  },
  "language_info": {
   "codemirror_mode": {
    "name": "ipython",
    "version": 2
   },
   "file_extension": ".py",
   "mimetype": "text/x-python",
   "name": "python",
   "nbconvert_exporter": "python",
   "pygments_lexer": "ipython2",
   "version": "2.7.9"
  }
 },
 "nbformat": 4,
 "nbformat_minor": 0
}
