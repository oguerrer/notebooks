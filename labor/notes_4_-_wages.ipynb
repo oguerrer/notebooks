{
 "cells": [
  {
   "cell_type": "markdown",
   "metadata": {},
   "source": [
    "# Wages\n",
<<<<<<< HEAD
    "####by Omar A. Guerrero, University of Oxford\n",
=======
     "####by Omar A. Guerrero, University of Oxford\n",
>>>>>>> origin/master
    "Now we turn into wage formation. This is perhaps the most conflictive part of rational equilibrium with respect to an agent-computing perspective. The reason is because wage formation is more of a concept of existent rather than a constructive process (with exception of Rubinstein's infinitely repeated ultimatum game, which is not very empirically appealing). For now, we will have to assume that this is the case and adopt the Nash-bargaining solution introduced by Pissarides in chapter 1.4, which describes the motion law of wages as a function of the total unemployment $U$ and vacancies $V$. "
   ]
  },
  {
   "cell_type": "markdown",
   "metadata": {},
   "source": [
    "## Libraries\n"
   ]
  },
  {
   "cell_type": "code",
   "execution_count": 1,
   "metadata": {
    "collapsed": false
   },
   "outputs": [],
   "source": [
    "from __future__ import division # forces a division of integers to return a float (in order to avoid errors)\n",
    "%matplotlib inline\n",
    "import random as rd # tools to genrate random numbers and more\n",
    "import matplotlib.pyplot as plt # we will use this to visualize the model's output\n",
    "import bisect # a library to slice lists"
   ]
  },
  {
   "cell_type": "markdown",
   "metadata": {},
   "source": [
    "## Parameters\n",
    "We introduce unemployment benefits $z$ and the bargaining power of the worker $\\beta$."
   ]
  },
  {
   "cell_type": "code",
   "execution_count": 2,
   "metadata": {
    "collapsed": true
   },
   "outputs": [],
   "source": [
    "L = 1000 # number of workers\n",
    "N = 100 # number of firms\n",
    "Lambda = 0.05 # the exogenous source of unemployment, also known as the separation rate\n",
    "Alpha = .5 # a parameter of the aggregate matching function, explained in the Market section\n",
    "c = 0.6 # the cost of holding an unfilled vacancy\n",
    "y = 1.0 # productivity of a filled vacancy\n",
    "r = 0.95 # dicount factor\n",
    "z = 0.1 # unemployment benefits\n",
    "Beta = 0.5 # workers' bargaining power\n",
    "max_t = 500 # maximum number of steps to be ran in the simulation"
   ]
  },
  {
   "cell_type": "markdown",
   "metadata": {},
   "source": [
    "## Agents"
   ]
  },
  {
   "cell_type": "markdown",
   "metadata": {},
   "source": [
    "### Workers\n",
    "We add $z$ and $\\beta$."
   ]
  },
  {
   "cell_type": "code",
   "execution_count": 3,
   "metadata": {
    "collapsed": true
   },
   "outputs": [],
   "source": [
    "class Worker():\n",
    "    \n",
    "    # gives birth (initializes) to a single worker\n",
    "    def __init__(self, id, Lambda=Lambda, employer=None, z=z, Beta=Beta):\n",
    "        self.id = id # the id of the worker\n",
    "        self.Lambda = Lambda # the separation rate of the worker\n",
    "        self.w = None # the wage of the worker\n",
    "        self.employer = employer # the firm for which the agent works\n",
    "        self.z = z # the unemployment benefits received during unemployment\n",
    "        self.Beta = Beta # the bargaining power of the worker\n",
    "        self.last_period = 0 # period when the employment status last changed\n",
    "    \n",
    "    # checks if the agent works for a firm and returns False if she is unemployed and True otherwise\n",
    "    def is_employed(self):\n",
    "        return not self.employer==None\n",
    "    \n",
    "    # register hiring\n",
    "    def hired(self, firm, wage, t):\n",
    "        self.employer = firm\n",
    "        self.w = wage\n",
    "        self.last_period = t\n",
    "    \n",
    "    # register separation\n",
    "    def separated(self, t):\n",
    "        self.employer = None\n",
    "        self.w = 0\n",
    "        self.last_period = t\n",
    "    \n",
    "    # specifies what the agent does in each step of the simulation\n",
    "    def step(self, t):\n",
    "        rand = rd.random() # draw a random number\n",
    "        if self.is_employed(): # check employment status\n",
    "            # the probability of becoming unemployed is the average of the separation rates of the worker and the firm.\n",
    "            # This is a bit of an arbitrary assumption but can be modified later. The point is to capture the effect\n",
    "            # that each counterpart has in the process of unemployment. Since we will assume homogenous agents, this\n",
    "            # specification does not change from simply assuming the general Lambda to be the only source of unemployment.\n",
    "            if rand < (self.Lambda + self.employer.Lambda)/2:\n",
    "                market.separation(self, t) # peform separation in the market\n",
    "        else:\n",
    "            if rand < market.matching_proba(): # check if the labor market frictions allow the match\n",
    "                firm = market.pick_firm() # pick a firm at random\n",
    "                wage = market.wage(self, firm) # determine the wage\n",
    "                market.hiring(self, firm, wage, t) # perform the hiring in the market"
   ]
  },
  {
   "cell_type": "markdown",
   "metadata": {},
   "source": [
    "### Firms\n",
    "We add a variable holding the latesr wage paid by the firm. That will be the reference point for the firm to compute its vacancy policy."
   ]
  },
  {
   "cell_type": "code",
   "execution_count": 4,
   "metadata": {
    "collapsed": false
   },
   "outputs": [],
   "source": [
    "class Firm():\n",
    "    \n",
    "    # initializes the firm\n",
    "    def __init__(self, id, Lambda=Lambda, c=c, y=y, r=r, w=y*rd.random()):\n",
    "        self.id = id\n",
    "        self.Lambda = Lambda\n",
    "        self.c = c\n",
    "        self.y = y\n",
    "        self.r = r\n",
    "        self.V = 1 # the number of vacancies \n",
    "        self.w = w # the latest wage paid by the firm\n",
    "        self.book = {}\n",
    "    \n",
    "    # register a newly hired worker with her wage and the period of hiring\n",
    "    def hire(self, worker, wage, t):\n",
    "        self.book[worker] = (wage, t)\n",
    "        self.w = wage\n",
    "    \n",
    "    # remove the separated worker from the book\n",
    "    def separate(self, worker):\n",
    "        self.book.pop(worker)\n",
    "\n",
    "    # compute the size (in number of employees)\n",
    "    def size(self):\n",
    "        return len(self.book)\n",
    "    \n",
    "    def open_vacancies(self):\n",
    "        U = stats.data['U']\n",
    "        M = stats.data['M']\n",
    "        self.V = M*(self.y-self.w)/(N*self.c*self.y*(self.Lambda+self.r))\n",
    "    \n",
    "    # specifies what the firm does in each step of the simulation\n",
    "    def step(self, t):\n",
    "        self.open_vacancies()"
   ]
  },
  {
   "cell_type": "markdown",
   "metadata": {},
   "source": [
    "### Market\n",
    "Here we introduce the wage() method, which takes care of spliting the surplus of the worker and the firm in order to form the wage."
   ]
  },
  {
   "cell_type": "code",
   "execution_count": 5,
   "metadata": {
    "collapsed": false
   },
   "outputs": [],
   "source": [
    "class Market():\n",
    "    \n",
    "    # initializes the market\n",
    "    def __init__(self):\n",
    "        self.pVs = [1/N for firm in firms]\n",
    "        self.cVs = [sum(self.pVs[:x]) for x in range(1,len(self.pVs)+1)]\n",
    "    \n",
    "    # register a hiring in both the firm and the worker attributes\n",
    "    def hiring(self, worker, firm, wage, t):\n",
    "        worker.hired(firm, wage, t)\n",
    "        firm.hire(worker, wage, t)\n",
    "    \n",
    "    # register a separation in both the firm and the worker attributes\n",
    "    def separation(self, worker, t):\n",
    "        worker.employer.separate(worker)\n",
    "        worker.separated(t)\n",
    "    \n",
    "    # the aggregate matching function\n",
    "    def matches(self, U=1, V=1):\n",
    "        return Alpha*U + (1-Alpha)*V\n",
    "    \n",
    "    # the probability of a match\n",
    "    def matching_proba(self):\n",
    "        U = stats.data['U']\n",
    "        V = stats.data['V']\n",
    "        return self.matches(U, V)/U\n",
    "    \n",
    "    # update vacancies\n",
    "    def update_vacancies(self):\n",
    "        self.pVs = [V/stats.data['V'] for V in stats.data['Vs']]\n",
    "        self.cVs = [sum(self.pVs[:x]) for x in range(1,len(self.pVs)+1)]\n",
    "    \n",
    "    # pick a firm at random\n",
    "    def pick_firm(self):\n",
    "        return firms[bisect.bisect_right(self.cVs, rd.random())]\n",
    "    \n",
    "    # wage formation\n",
    "    def wage(self, worker, firm):\n",
    "        U = stats.data['U']\n",
    "        V = stats.data['V']\n",
    "        return (1-worker.Beta)*worker.z + worker.Beta*firm.y*(1+firm.c*V/U)\n",
    "    \n",
    "    # updates every period\n",
    "    def step(self):\n",
    "        self.update_vacancies()"
   ]
  },
  {
   "cell_type": "markdown",
   "metadata": {},
   "source": [
    "### Statistics Bureau\n",
    "We update the theoretical predictions of unemployment and vacancies, and add one for the wage."
   ]
  },
  {
   "cell_type": "code",
   "execution_count": 6,
   "metadata": {
    "collapsed": false
   },
   "outputs": [],
   "source": [
    "class Stats():\n",
    "    \n",
    "    # initializes the statistics bureau\n",
    "    def __init__(self):\n",
    "        self.data = {} # a dictionary that holds different data structures\n",
    "        self.data['u'] = 1 # the latest unemployment rate\n",
    "        self.data['U'] = 1 # the latest unemployment level\n",
    "        self.data['V'] = 1 # the number of vacancies\n",
    "        self.data['Vs'] = [1 for firm in firms]\n",
    "        self.data['M'] = 1 # the latest number of matches\n",
    "        self.data['ts_u'] = [] # list that stores the time series of the unemployment rate\n",
    "        self.data['ts_v'] = [] # list that stores the time series of the vacancy rate\n",
    "        self.data['ts_w'] = [] # list that stores the time series of the average wage\n",
    "        \n",
    "    # counts the number of employed\n",
    "    def count_employed(self):\n",
    "        return sum([worker.is_employed() for worker in workers])\n",
    "    \n",
    "    # counts the number of unemployed\n",
    "    def count_unemployed(self):\n",
    "        return sum([not worker.is_employed() for worker in workers])\n",
    "    \n",
    "    # counts the vacancies per firm\n",
    "    def count_vacancies(self):\n",
    "        return [firm.V for firm in firms]\n",
    "    \n",
    "    # counts the total vacancies\n",
    "    def sum_vacancies(self):\n",
    "        return sum(count_vacancies())\n",
    "        \n",
    "    # computes the unemployment rate\n",
    "    def unemployment_rate(self):\n",
    "        return self.count_unemployed()/L\n",
    "    \n",
    "    # computes the average wage\n",
    "    def average_wage(self):\n",
    "        return sum([worker.w for worker in workers if worker.is_employed()])/self.count_employed()\n",
    "    \n",
    "    # computes the average firm size\n",
    "    def average_firm_size(self):\n",
    "        return sum([firm.size() for firm in firms])/N\n",
    "    \n",
    "    # computes the average wage\n",
    "    def average_wage(self):\n",
    "        return sum([worker.w for worker in workers if worker.is_employed()])/self.count_employed()\n",
    "    \n",
    "    # what the statistics bureau does every period\n",
    "    def step(self):\n",
    "        self.data['Vs'] = self.count_vacancies()\n",
    "        self.data['V'] = sum(self.data['Vs'])\n",
    "        self.data['U'] = self.count_unemployed()\n",
    "        self.data['M'] = market.matches(self.data['U'], self.data['V'])\n",
    "        self.data['u'] = self.data['U']/L\n",
    "        self.data['ts_u'].append(self.data['u'])\n",
    "        self.data['ts_v'].append(self.data['V']/L)\n",
    "        self.data['ts_w'].append(self.average_wage())\n",
    "    \n",
    "    # the theoretical unemployment rate from Pissarides' model\n",
    "    def theory_u(self):\n",
    "        return -(-(Lambda**2*(Alpha+Lambda)**2*(z**2*(-1+Alpha)**2*(-1+Beta)**2+2*y*z*(-1+Alpha)*(-1+Beta)*(-1+Alpha+Beta-Alpha*Beta+c*(r-Alpha*Beta+Lambda))+y**2*((-1+Alpha)**2*(-1+Beta)**2-2*c*(-1+Alpha)*(-1+Beta)*(r-Alpha*Beta+Lambda)+c**2*(r+Alpha*Beta+Lambda)**2)))**(1/2)+Lambda*(Alpha+Lambda)*(z*(-1+Alpha+Beta-Alpha*Beta)-y*(-1+Alpha+Beta-Alpha*Beta+c*(r+Lambda-Beta*(Alpha+2*Lambda)))))/(2*(Alpha+Lambda)*(-(y-z)*(-1+Alpha)*(-1+Beta)*Lambda+c*y*(Alpha+Lambda)*(r+Lambda-Beta*Lambda)))\n",
    "    \n",
    "    # the theoretical unemployment rate from Pissarides' model\n",
    "    def theory_v(self):\n",
    "        return -(z*(-1+Alpha)*(-1+Beta)*(Alpha-Lambda)*Lambda+(Lambda**2*(Alpha+Lambda)**2*(z**2*(-1+Alpha)**2*(-1+Beta)**2+2*y*z*(-1+Alpha)*(-1+Beta)*(-1+Alpha+Beta-Alpha*Beta+c*(r-Alpha*Beta+Lambda))+y**2*((-1+Alpha)**2*(-1+Beta)**2-2*c*(-1+Alpha)*(-1+Beta)*(r-Alpha*Beta+Lambda)+c**2*(r+Alpha*Beta+Lambda)**2)))**(1/2)-y*Lambda*(Alpha**2*(-1+Beta+c*Beta)+Lambda*(-1+Beta+c*(r+Lambda))+Alpha*(-(-1+Beta)*(1+Lambda)+c*(r+Lambda+Beta*Lambda))))/(2*(-1+Alpha)*((y-z)*(-1+Alpha)*(-1+Beta)*Lambda-c*y*(Alpha+Lambda)*(r+Lambda-Beta*Lambda)))\n",
    "\n",
    "    # the theoretical wage\n",
    "    def theory_w(self):\n",
    "        return 1/(2*(-1+Alpha)*Lambda*(Alpha+Lambda))*(Lambda*(Alpha+Lambda)*(z*(-1+Alpha+Beta-Alpha*Beta)+y*((-1+Alpha)*(1+Beta)+c*(r+Alpha*Beta+Lambda)))-(Lambda**2*(Alpha+Lambda)**2*(z**2*(-1+Alpha)**2*(-1+Beta)**2+2*y*z*(-1+Alpha)*(-1+Beta)*(-1+Alpha+Beta-Alpha*Beta+c*(r-Alpha*Beta+Lambda))+y**2*((-1+Alpha)**2*(-1+Beta)**2-2*c*(-1+Alpha)*(-1+Beta)*(r-Alpha*Beta+Lambda)+c**2*(r+Alpha*Beta+Lambda)**2)))**(1/2))"
   ]
  },
  {
   "cell_type": "markdown",
   "metadata": {},
   "source": [
    "## Execution"
   ]
  },
  {
   "cell_type": "markdown",
   "metadata": {},
   "source": [
    "### Initialization"
   ]
  },
  {
   "cell_type": "code",
   "execution_count": 7,
   "metadata": {
    "collapsed": false
   },
   "outputs": [],
   "source": [
    "workers = [Worker(id) for id in range(L)] # list of workers parameterized acording to the Parameters section\n",
    "firms = [Firm(id) for id in range(N)] # list of firms parameterized acording to the Parameters section\n",
    "agents = workers + firms # make a joint list of workers and firms\n",
    "rd.shuffle(agents) # randomize the order to the agents in the list\n",
    "market = Market() # our market object\n",
    "stats = Stats() # our statistics bureau"
   ]
  },
  {
   "cell_type": "markdown",
   "metadata": {},
   "source": [
    "### Iteration"
   ]
  },
  {
   "cell_type": "code",
   "execution_count": 8,
   "metadata": {
    "collapsed": false
   },
   "outputs": [],
   "source": [
    "for t in range(max_t):\n",
    "    [agent.step(t) for agent in agents]\n",
    "    stats.step()\n",
    "    market.step()"
   ]
  },
  {
   "cell_type": "markdown",
   "metadata": {},
   "source": [
    "## Plotting"
   ]
  },
  {
   "cell_type": "markdown",
   "metadata": {},
   "source": [
    "### Unemployment Rate"
   ]
  },
  {
   "cell_type": "code",
   "execution_count": 9,
   "metadata": {
    "collapsed": false
   },
   "outputs": [
    {
     "data": {
      "text/plain": [
       "<matplotlib.text.Text at 0x104e7b690>"
      ]
     },
     "execution_count": 9,
     "metadata": {},
     "output_type": "execute_result"
    },
    {
     "data": {
      "image/png": "iVBORw0KGgoAAAANSUhEUgAAAY4AAAEZCAYAAACAZ8KHAAAABHNCSVQICAgIfAhkiAAAAAlwSFlz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\nYII=\n",
      "text/plain": [
       "<matplotlib.figure.Figure at 0x104d7b950>"
      ]
     },
     "metadata": {},
     "output_type": "display_data"
    }
   ],
   "source": [
    "plt.plot(stats.data['ts_u'], linewidth=.5) # plot the time series collected by the stats agent\n",
    "plt.plot([stats.theory_u() for i in range(max_t)], 'r', linewidth=3) # plot the analytical prediction\n",
    "#plt.ylim([min(stats.data['ts_u'][1::]), max(stats.data['ts_u'][1::])])\n",
    "plt.xlabel('time')\n",
    "plt.ylabel('unemployment rate')\n",
    "plt.title('evolution of the unemployment rate')"
   ]
  },
  {
   "cell_type": "markdown",
   "metadata": {},
   "source": [
    "###Vacancy Rate"
   ]
  },
  {
   "cell_type": "code",
   "execution_count": 10,
   "metadata": {
    "collapsed": false
   },
   "outputs": [
    {
     "data": {
      "text/plain": [
       "<matplotlib.text.Text at 0x1052087d0>"
      ]
     },
     "execution_count": 10,
     "metadata": {},
     "output_type": "execute_result"
    },
    {
     "data": {
      "image/png": "iVBORw0KGgoAAAANSUhEUgAAAZQAAAEZCAYAAACw69OmAAAABHNCSVQICAgIfAhkiAAAAAlwSFlz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\nTkSuQmCC\n",
      "text/plain": [
       "<matplotlib.figure.Figure at 0x104e67790>"
      ]
     },
     "metadata": {},
     "output_type": "display_data"
    }
   ],
   "source": [
    "plt.plot(stats.data['ts_v'], linewidth=.5) # plot the time series collected by the stats agent\n",
    "plt.plot([stats.theory_v() for i in range(max_t)], 'r', linewidth=3) # plot the analytical prediction\n",
    "#plt.ylim([min(stats.data['ts_v'][1::]), max(stats.data['ts_v'][1::])])\n",
    "plt.xlabel('time')\n",
    "plt.ylabel('vacancy rate')\n",
    "plt.title('evolution of the vacancy rate')"
   ]
  },
  {
   "cell_type": "markdown",
   "metadata": {},
   "source": [
    "### Average Wage"
   ]
  },
  {
   "cell_type": "code",
   "execution_count": 11,
   "metadata": {
    "collapsed": false
   },
   "outputs": [
    {
     "data": {
      "text/plain": [
       "<matplotlib.text.Text at 0x10533a810>"
      ]
     },
     "execution_count": 11,
     "metadata": {},
     "output_type": "execute_result"
    },
    {
     "data": {
      "image/png": "iVBORw0KGgoAAAANSUhEUgAAAY0AAAEZCAYAAABrUHmEAAAABHNCSVQICAgIfAhkiAAAAAlwSFlz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\nSUVORK5CYII=\n",
      "text/plain": [
       "<matplotlib.figure.Figure at 0x105275cd0>"
      ]
     },
     "metadata": {},
     "output_type": "display_data"
    }
   ],
   "source": [
    "plt.plot(stats.data['ts_w'], linewidth=2) # plot the time series collected by the stats agent\n",
    "plt.plot([stats.theory_w() for i in range(max_t)], 'r', linewidth=2) # plot the analytical prediction\n",
    "#plt.ylim([min(stats.data['ts_w'][1::]), max(stats.data['ts_w'][1::])])\n",
    "plt.xlabel('time')\n",
    "plt.ylabel('average wage')\n",
    "plt.title('evolution of the average wage')"
   ]
  },
  {
   "cell_type": "markdown",
   "metadata": {},
   "source": [
    "### Firm Size Distribution"
   ]
  },
  {
   "cell_type": "code",
   "execution_count": 12,
   "metadata": {
    "collapsed": false
   },
   "outputs": [
    {
     "data": {
      "text/plain": [
       "<matplotlib.text.Text at 0x1053dfe90>"
      ]
     },
     "execution_count": 12,
     "metadata": {},
     "output_type": "execute_result"
    },
    {
     "data": {
      "image/png": "iVBORw0KGgoAAAANSUhEUgAAAYAAAAEZCAYAAACervI0AAAABHNCSVQICAgIfAhkiAAAAAlwSFlz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\nN/sqZAAAAABJRU5ErkJggg==\n",
      "text/plain": [
       "<matplotlib.figure.Figure at 0x105007c90>"
      ]
     },
     "metadata": {},
     "output_type": "display_data"
    }
   ],
   "source": [
    "plt.hist([firm.size() for firm in firms]) # plot the time series collected by the stats agent\n",
    "plt.xlabel('number of employees')\n",
    "plt.ylabel('frequency')\n",
    "plt.title('firm size distribution')"
   ]
  },
  {
   "cell_type": "markdown",
   "metadata": {},
   "source": [
    "### Wage Distribution\n",
    "Only wages of those employed."
   ]
  },
  {
   "cell_type": "code",
   "execution_count": 13,
   "metadata": {
    "collapsed": false
   },
   "outputs": [
    {
     "data": {
      "text/plain": [
       "<matplotlib.text.Text at 0x10564aad0>"
      ]
     },
     "execution_count": 13,
     "metadata": {},
     "output_type": "execute_result"
    },
    {
     "data": {
      "image/png": "iVBORw0KGgoAAAANSUhEUgAAAYwAAAEZCAYAAACEkhK6AAAABHNCSVQICAgIfAhkiAAAAAlwSFlz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\nkiRJmhj+H56J2km5uRdEAAAAAElFTkSuQmCC\n",
      "text/plain": [
       "<matplotlib.figure.Figure at 0x1055f9a50>"
      ]
     },
     "metadata": {},
     "output_type": "display_data"
    }
   ],
   "source": [
    "plt.hist([worker.w for worker in workers if worker.is_employed()])\n",
    "plt.xlabel('wage')\n",
    "plt.ylabel('frequency')\n",
    "plt.title('wage distribution')"
   ]
  },
  {
   "cell_type": "markdown",
   "metadata": {},
   "source": [
    "### Income Distribution\n",
    "Includes unemployment benefits."
   ]
  },
  {
   "cell_type": "code",
   "execution_count": 14,
   "metadata": {
    "collapsed": false
   },
   "outputs": [
    {
     "data": {
      "text/plain": [
       "<matplotlib.text.Text at 0x10578c790>"
      ]
     },
     "execution_count": 14,
     "metadata": {},
     "output_type": "execute_result"
    },
    {
     "data": {
      "image/png": "iVBORw0KGgoAAAANSUhEUgAAAYkAAAEZCAYAAABiu9n+AAAABHNCSVQICAgIfAhkiAAAAAlwSFlz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\nSZIkSceG/w/pvgGOZtZwrQAAAABJRU5ErkJggg==\n",
      "text/plain": [
       "<matplotlib.figure.Figure at 0x1055ab510>"
      ]
     },
     "metadata": {},
     "output_type": "display_data"
    }
   ],
   "source": [
    "plt.hist([worker.w if worker.is_employed() else worker.z for worker in workers])\n",
    "plt.xlabel('income')\n",
    "plt.ylabel('frequency')\n",
    "plt.title('income distribution')"
   ]
  },
  {
   "cell_type": "markdown",
   "metadata": {},
   "source": [
    "### Job Tenureship Distribution"
   ]
  },
  {
   "cell_type": "code",
   "execution_count": 15,
   "metadata": {
    "collapsed": false
   },
   "outputs": [
    {
     "data": {
      "text/plain": [
       "<matplotlib.text.Text at 0x105a250d0>"
      ]
     },
     "execution_count": 15,
     "metadata": {},
     "output_type": "execute_result"
    },
    {
     "data": {
      "image/png": "iVBORw0KGgoAAAANSUhEUgAAAYoAAAEZCAYAAACJjGL9AAAABHNCSVQICAgIfAhkiAAAAAlwSFlz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\nAAAAAElFTkSuQmCC\n",
      "text/plain": [
       "<matplotlib.figure.Figure at 0x1058bb510>"
      ]
     },
     "metadata": {},
     "output_type": "display_data"
    }
   ],
   "source": [
    "plt.hist([max_t-worker.last_period for worker in workers if worker.is_employed()])\n",
    "plt.xlabel('number of periods')\n",
    "plt.ylabel('frequency')\n",
    "plt.title('job tenureship distribution')"
   ]
  },
  {
   "cell_type": "markdown",
   "metadata": {},
   "source": [
    "### Unemployment Duration Distribution"
   ]
  },
  {
   "cell_type": "code",
   "execution_count": 16,
   "metadata": {
    "collapsed": false
   },
   "outputs": [
    {
     "data": {
      "text/plain": [
       "<matplotlib.text.Text at 0x105d064d0>"
      ]
     },
     "execution_count": 16,
     "metadata": {},
     "output_type": "execute_result"
    },
    {
     "data": {
      "image/png": "iVBORw0KGgoAAAANSUhEUgAAAYMAAAEZCAYAAAB1mUk3AAAABHNCSVQICAgIfAhkiAAAAAlwSFlz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\nkiRJkiRJkiRJkiRJkiSpG/0fohvQHd9ONnsAAAAASUVORK5CYII=\n",
      "text/plain": [
       "<matplotlib.figure.Figure at 0x1055f9690>"
      ]
     },
     "metadata": {},
     "output_type": "display_data"
    }
   ],
   "source": [
    "plt.hist([max_t-worker.last_period for worker in workers if not worker.is_employed()])\n",
    "plt.xlabel('number of periods')\n",
    "plt.ylabel('frequency')\n",
    "plt.title('unemployment duration distribution')"
   ]
  },
  {
   "cell_type": "markdown",
   "metadata": {},
   "source": [
    "## Conclusion\n"
   ]
  },
  {
   "cell_type": "markdown",
   "metadata": {},
   "source": [
    "Now we have a full agent-computing model with firm behaviors and endogenous wages produced from the interactions of firms and workers. A few things to notice right away is the adjustment dynamics of some of these variables. First, the aggregate unemployment converges pretty fast to the steady-state prediction. Second number of vacancies in the economy converge at slower rate since. Third, the average wage converges at a lower speed, mainly because workers have to wait longer to update wages (due to the separation and job finding process). Now that we have such a rich specification of the system, we can do some basic analysis by introducing heterogeneity and looking at convergence speeds in the presence of shocks.\n",
    "\n",
    "Something that most be noted is that, at this point, we have already introduced three restrictions to the model: (1) the firm optimization condition, (2) the worker optimization rule (implicitly but check Pissarides chapter 1.3), and (3) the Nash-bargaining mechanism. By doing this, we are restricting the space of possible outcomes of the model. That is, not every combination of parameters is permissible because some of them might violate any of the previous restriction. For example, if we calibrate an extreme unemployment benefits, we might get wages higher than productivity, which generate negative vacancies. Therefore, just as in the analytical framework, we need to be careful with our calibration. This caution should also be considered when introducing heterogeneity because we don't want some firms doing inconsistent things. However, we can always bound the agent's decisions to corner solutions, which still provides a pretty good tool for looking into certain types of heterogeneity. As we progress in this notes we will learn that such restrictive outcomes are the price we have to pay for analytical elegance, and the problem is that we really do not know if these subset of outcomes even corresponds to reality. Therefore, we will want to move away from the rational equilibrium world and move towards more realistic, but well-behave, models that address realistic dynamics. This will come at the price of not being able to derive analytical results, but because we have constructed a clear agent-computing framework in a systematic way, there is not reason why we should not gain intuition of how it behaves and how labor markets work with scientific rigor."
   ]
  }
 ],
 "metadata": {
  "kernelspec": {
   "display_name": "Python 2",
   "language": "python",
   "name": "python2"
  },
  "language_info": {
   "codemirror_mode": {
    "name": "ipython",
    "version": 2
   },
   "file_extension": ".py",
   "mimetype": "text/x-python",
   "name": "python",
   "nbconvert_exporter": "python",
   "pygments_lexer": "ipython2",
   "version": "2.7.9"
  }
 },
 "nbformat": 4,
 "nbformat_minor": 0
}
