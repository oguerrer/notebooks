{
 "cells": [
  {
   "cell_type": "markdown",
   "metadata": {},
   "source": [
    "# Frictional Unemployment\n",
     "####by Omar A. Guerrero, University of Oxford\n",
    "In these notes we will closely follow Pissarides' framework as presented in his book: Equilibrium Unemployment Theory. Specifically, we concentrate in the simplest model (chapter 1.1), where we do not know the actual number of vacancies, but instead the ratio $\\theta = V/U$ of vacancies $V$ to unemployed $U$. By fixing $\\theta$, we can obtain analytical predictions about the steady state unemployment rate, which we use as benchmark to compare the output of our model. As we progress through other notes, we will develop other aspects of Pissarides' framework, up to the point where it is more convenient to abandon the rational equilibrium perspective, for a more realistic specification. However, the journey through Pissarides' world should serve as an example of the power and generality of agent-computing economic models when implemented in a careful and systematic way."
   ]
  },
  {
   "cell_type": "markdown",
   "metadata": {},
   "source": [
    "## Libraries"
   ]
  },
  {
   "cell_type": "code",
   "execution_count": 29,
   "metadata": {
    "collapsed": false
   },
   "outputs": [],
   "source": [
    "from __future__ import division # forces a division of integers to return a float (in order to avoid errors)\n",
    "%matplotlib inline\n",
    "import random as rd # tools to genrate random numbers and more\n",
    "import matplotlib.pyplot as plt # we will use this to visualize the model's output"
   ]
  },
  {
   "cell_type": "markdown",
   "metadata": {},
   "source": [
    "## Parameters\n",
    "We introduce the new parameter $\\theta=V/U$, which measures the availability of job opportunities as a proportion of the number of agents looking for them. This is also termed market tightness."
   ]
  },
  {
   "cell_type": "code",
   "execution_count": 30,
   "metadata": {
    "collapsed": true
   },
   "outputs": [],
   "source": [
    "L = 1000 # number of workers\n",
    "N = 100 # number of firms\n",
    "Lambda = 0.1 # the exogenous source of unemployment, also known as the separation rate\n",
    "w = .8 # the wage generated (we will assume it to be fixed)\n",
    "Theta = .5 # the V/U ratio, also known as market tightness\n",
    "Alpha = .5 # a parameter of the aggregate matching function, explained in the Market section\n",
    "max_t = 500 # maximum number of steps to be ran in the simulation"
   ]
  },
  {
   "cell_type": "markdown",
   "metadata": {},
   "source": [
    "## Agents"
   ]
  },
  {
   "cell_type": "markdown",
   "metadata": {},
   "source": [
    "### Workers\n",
    "When a worker is unemployed, she will not always find a firm that will hire her. Instead, the market determines the probability of her match by using the latest information about the aggregate unemployment rate collected by the stats agent."
   ]
  },
  {
   "cell_type": "code",
   "execution_count": 31,
   "metadata": {
    "collapsed": true
   },
   "outputs": [],
   "source": [
    "class Worker():\n",
    "    \n",
    "    # gives birth (initializes) to a single worker\n",
    "    def __init__(self, id, Lambda=Lambda, w=w, employer=None):\n",
    "        self.id = id # the id of the worker\n",
    "        self.Lambda = Lambda # the separation rate of the worker\n",
    "        self.w = w # the wage of the worker\n",
    "        self.employer = employer # the firm for which the agent works\n",
    "    \n",
    "    # checks if the agent works for a firm and returns False if she is unemployed and True otherwise\n",
    "    def is_employed(self):\n",
    "        return not self.employer==None\n",
    "    \n",
    "    # sets the wage\n",
    "    def set_wage(self, w):\n",
    "        self.w = w\n",
    "    \n",
    "    # sets the employer\n",
    "    def set_employer(self, firm):\n",
    "        self.employer = firm\n",
    "        \n",
    "    # specifies what the agent does in each step of the simulation\n",
    "    def step(self, t):\n",
    "        rand = rd.random() # draw a random number\n",
    "        if self.is_employed(): # check employment status\n",
    "            # the probability of becoming unemployed is the average of the separation rates of the worker and the firm.\n",
    "            # This is a bit of an arbitrary assumption but can be modified later. The point is to capture the effect\n",
    "            # that each counterpart has in the process of unemployment. Since we will assume homogenous agents, this\n",
    "            # specification does not change from simply assuming the general Lambda to be the only source of unemployment.\n",
    "            if rand < (self.Lambda + self.employer.Lambda)/2:\n",
    "                market.separation(self) # peform separation in the market\n",
    "        else:\n",
    "            if rand < market.matching_proba(): # check if the labor market frictions allow the match\n",
    "                firm = market.pick_firm() # pick a firm at random\n",
    "                wage = w # determine the wage\n",
    "                market.hiring(self, firm, wage, t) # perform the hiring in the market"
   ]
  },
  {
   "cell_type": "markdown",
   "metadata": {},
   "source": [
    "### Firms"
   ]
  },
  {
   "cell_type": "code",
   "execution_count": 32,
   "metadata": {
    "collapsed": false
   },
   "outputs": [],
   "source": [
    "class Firm():\n",
    "    \n",
    "    # initializes the firm\n",
    "    def __init__(self, id, Lambda=Lambda):\n",
    "        self.id = id\n",
    "        self.Lambda = Lambda\n",
    "        self.book = {}\n",
    "    \n",
    "    # register a newly hired worker with her wage and the period of hiring\n",
    "    def hire(self, worker, wage, step):\n",
    "        self.book[worker] = (wage, step)\n",
    "    \n",
    "    # remove the separated worker from the book\n",
    "    def separate(self, worker):\n",
    "        self.book.pop(worker)\n",
    "    \n",
    "    # compute the size (in number of employees)\n",
    "    def size(self):\n",
    "        return len(self.book)\n",
    "    \n",
    "    # specifies what the firm does in each step of the simulation. For now it does nothing\n",
    "    def step(self, t):\n",
    "        return # do nothing"
   ]
  },
  {
   "cell_type": "markdown",
   "metadata": {},
   "source": [
    "### Market\n",
    "The market holds the obscure mechanism that motivates the aggregate matching functions. Therefore, we specify the function with the desired properties of homogeneity-degree one and being increasing in both unemployment and vacancies. Since we will also solve Pissarides model analytically to use it as our benchmark, we assume the simplest function: $M=\\alpha U + (1-\\alpha)V$, where $M$ is the number of job seekers who successfully find a vacancy. Then, the probability that a job seeker is matched to a firm with a vacancy is $p=M/U$."
   ]
  },
  {
   "cell_type": "code",
   "execution_count": 33,
   "metadata": {
    "collapsed": true
   },
   "outputs": [],
   "source": [
    "class Market():\n",
    "    \n",
    "    # register a hiring in both the firm and the worker attributes\n",
    "    def hiring(self, worker, firm, wage, step):\n",
    "        worker.set_employer(firm)\n",
    "        worker.set_wage(w)\n",
    "        firm.hire(worker, wage, step)\n",
    "    \n",
    "    # register a separation in both the firm and the worker attributes\n",
    "    def separation(self, worker):\n",
    "        firm = worker.employer\n",
    "        firm.separate(worker)\n",
    "        worker.set_employer(None)\n",
    "        worker.set_wage(0)\n",
    "       \n",
    "    # the aggregate matching function\n",
    "    def matches(self, U=1):\n",
    "        return Alpha*U + (1-Alpha)*(U*Theta)\n",
    "    \n",
    "    # the probability of a match\n",
    "    def matching_proba(self):\n",
    "        U = stats.data['U']\n",
    "        return self.matches(U)/U\n",
    "    \n",
    "    # pick a firm at random\n",
    "    def pick_firm(self):\n",
    "        return rd.choice(firms)"
   ]
  },
  {
   "cell_type": "markdown",
   "metadata": {},
   "source": [
    "### Statistics Bureau\n",
    "The stats agent now knows Pissarides' model and employs it to estimate the steady state unemployment rate of the economy with knowledge of $\\theta$. In this way, we can encapsulate all computations of Pissarides' model in the statistics bureau, which we late use to compare with the model's output."
   ]
  },
  {
   "cell_type": "code",
   "execution_count": 34,
   "metadata": {
    "collapsed": false
   },
   "outputs": [],
   "source": [
    "class Stats():\n",
    "    \n",
    "    # initializes the statistics bureau\n",
    "    def __init__(self):\n",
    "        self.data = {} # a dictionary that holds different data structures\n",
    "        self.data['u'] = 1 # the latest unemployment rate\n",
    "        self.data['U'] = 1 # the latest unemployment level\n",
    "        self.data['ts_u'] = [] # list that stores the time series of the unemployment rate\n",
    "        \n",
    "    # counts the number of employed\n",
    "    def count_employed(self):\n",
    "        return sum([worker.is_employed() for worker in workers])\n",
    "    \n",
    "    # counts the number of unemployed\n",
    "    def count_unemployed(self):\n",
    "        return sum([not worker.is_employed() for worker in workers])\n",
    "    \n",
    "    # computes the unemployment rate\n",
    "    def unemployment_rate(self):\n",
    "        return self.count_unemployed()/L\n",
    "    \n",
    "    # computes the average wage\n",
    "    def average_wage(self):\n",
    "        return sum([worker.w for worker in workers if worker.is_employed()])/self.count_employed()\n",
    "    \n",
    "    # computes the average firm size\n",
    "    def average_firm_size(self):\n",
    "        return sum([firm.size() for firm in firms])/N\n",
    "    \n",
    "    # what the statistics bureau does every period\n",
    "    def step(self):\n",
    "        self.data['U'] = self.count_unemployed()\n",
    "        self.data['u'] = self.data['U']/L\n",
    "        self.data['ts_u'].append(self.data['u'])\n",
    "    \n",
    "    # the theoretical unemployment rate from Pissarides' model\n",
    "    def theory_u(self):\n",
    "        return Lambda/( Lambda + Theta*(Alpha/Theta + 1 - Alpha) )"
   ]
  },
  {
   "cell_type": "markdown",
   "metadata": {},
   "source": [
    "## Execution"
   ]
  },
  {
   "cell_type": "markdown",
   "metadata": {},
   "source": [
    "### Initialization"
   ]
  },
  {
   "cell_type": "code",
   "execution_count": 35,
   "metadata": {
    "collapsed": false
   },
   "outputs": [],
   "source": [
    "workers = [Worker(id) for id in range(L)] # list of workers parameterized acording to the Parameters section\n",
    "firms = [Firm(id) for id in range(N)] # list of firms parameterized acording to the Parameters section\n",
    "agents = workers + firms # make a joint list of workers and firms\n",
    "rd.shuffle(agents) # randomize the order to the agents in the list\n",
    "market = Market() # our market object\n",
    "stats = Stats() # our statistics bureau"
   ]
  },
  {
   "cell_type": "markdown",
   "metadata": {},
   "source": [
    "## Execution\n",
    "We add a call to the statistics bureau step(method)"
   ]
  },
  {
   "cell_type": "code",
   "execution_count": 36,
   "metadata": {
    "collapsed": false
   },
   "outputs": [],
   "source": [
    "for t in range(max_t):\n",
    "    [agent.step(t) for agent in agents]\n",
    "    stats.step() # the stats agent perform its duty"
   ]
  },
  {
   "cell_type": "markdown",
   "metadata": {},
   "source": [
    "## Plotting"
   ]
  },
  {
   "cell_type": "markdown",
   "metadata": {},
   "source": [
    "### Unemployment Rate"
   ]
  },
  {
   "cell_type": "code",
   "execution_count": 37,
   "metadata": {
    "collapsed": false
   },
   "outputs": [
    {
     "data": {
      "text/plain": [
       "<matplotlib.text.Text at 0x105896390>"
      ]
     },
     "execution_count": 37,
     "metadata": {},
     "output_type": "execute_result"
    },
    {
     "data": {
      "image/png": "[encoded data removed]",
      "text/plain": [
       "<matplotlib.figure.Figure at 0x105434990>"
      ]
     },
     "metadata": {},
     "output_type": "display_data"
    }
   ],
   "source": [
    "plt.plot(stats.data['ts_u'], linewidth=.5) # plot the time series collected by the stats agent\n",
    "plt.plot([stats.theory_u() for i in range(max_t)], 'r', linewidth=3) # plot the analytical prediction\n",
    "plt.ylim([min(stats.data['ts_u'][1::]), max(stats.data['ts_u'][1::])])\n",
    "plt.xlabel('time')\n",
    "plt.ylabel('unemployment rate')\n",
    "plt.title('evolution of the unemployment rate')"
   ]
  },
  {
   "cell_type": "markdown",
   "metadata": {},
   "source": [
    "### Firm Size Distribution\n",
    "A histogram of the firm size distribution."
   ]
  },
  {
   "cell_type": "code",
   "execution_count": 38,
   "metadata": {
    "collapsed": false
   },
   "outputs": [
    {
     "data": {
      "text/plain": [
       "<matplotlib.text.Text at 0x10531bf10>"
      ]
     },
     "execution_count": 38,
     "metadata": {},
     "output_type": "execute_result"
    },
    {
     "data": {
      "image/png": "[encoded data removed]",
      "text/plain": [
       "<matplotlib.figure.Figure at 0x10544e650>"
      ]
     },
     "metadata": {},
     "output_type": "display_data"
    }
   ],
   "source": [
    "plt.hist([firm.size() for firm in firms]) # plot the time series collected by the stats agent\n",
    "plt.xlabel('number of employees')\n",
    "plt.ylabel('frequency')\n",
    "plt.title('firm size distribution')"
   ]
  },
  {
   "cell_type": "markdown",
   "metadata": {},
   "source": [
    "## Conclusion\n",
    "We introduces the concept of the aggregate matching function in order to integrate frictional unemployment in the model. In the agent-computing model, the matching rate is updated every period by using the latest unemployment rate. The output of the model matches the analytical prediction, although the process through which firms and workers find each other is obscure."
   ]
  }
 ],
 "metadata": {
  "kernelspec": {
   "display_name": "Python 2",
   "language": "python",
   "name": "python2"
  },
  "language_info": {
   "codemirror_mode": {
    "name": "ipython",
    "version": 2
   },
   "file_extension": ".py",
   "mimetype": "text/x-python",
   "name": "python",
   "nbconvert_exporter": "python",
   "pygments_lexer": "ipython2",
   "version": "2.7.9"
  }
 },
 "nbformat": 4,
 "nbformat_minor": 0
}
