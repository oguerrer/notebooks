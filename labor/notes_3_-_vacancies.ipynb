{
 "cells": [
  {
   "cell_type": "markdown",
   "metadata": {},
   "source": [
    "# Vacancies\n",
    "####by Omar A. Guerrero, University of Oxford\n",
    "We continue following Pissarides' framework by specifying the behavior of firms. Firms employ an allocation rule for an optimal vacancy rate (see Pissarides' book chapter 1.2). We do this for each firm in order to build the capability of firm heterogeneity."
   ]
  },
  {
   "cell_type": "markdown",
   "metadata": {},
   "source": [
    "## Libraries\n",
    "We employ a new library: bisect. Bisect will help us manipulating lists in order to select sub-groups of agents."
   ]
  },
  {
   "cell_type": "code",
   "execution_count": 9,
   "metadata": {
    "collapsed": false
   },
   "outputs": [],
   "source": [
    "from __future__ import division # forces a division of integers to return a float (in order to avoid errors)\n",
    "%matplotlib inline\n",
    "import random as rd # tools to genrate random numbers and more\n",
    "import matplotlib.pyplot as plt # we will use this to visualize the model's output\n",
    "import bisect # a library to slice lists"
   ]
  },
  {
   "cell_type": "markdown",
   "metadata": {},
   "source": [
    "## Parameters\n",
    "We remove the market tightness $\\theta$ and introduce a cost $c$ associated with keeping an unfilled job position open and there is a discount factor $r$ involved in the inter-temporal decisions of the firm."
   ]
  },
  {
   "cell_type": "code",
   "execution_count": 10,
   "metadata": {
    "collapsed": true
   },
   "outputs": [],
   "source": [
    "L = 1000 # number of workers\n",
    "N = 100 # number of firms\n",
    "Lambda = 0.08 # the exogenous source of unemployment, also known as the separation rate\n",
    "w = .65 # the wage generated (we will assume it to be fixed)\n",
    "Alpha = .5 # a parameter of the aggregate matching function, explained in the Market section\n",
    "c = 0.6 # the cost of holding an unfilled vacancy\n",
    "y = 1.0 # productivity of a filled vacancy\n",
    "r = 0.95 # dicount factor\n",
    "max_t = 500 # maximum number of steps to be ran in the simulation"
   ]
  },
  {
   "cell_type": "markdown",
   "metadata": {},
   "source": [
    "## Agents"
   ]
  },
  {
   "cell_type": "markdown",
   "metadata": {},
   "source": [
    "### Workers\n",
    "We update the step() method to ask the stats agent for the total number of vacancies in the economy."
   ]
  },
  {
   "cell_type": "code",
   "execution_count": 11,
   "metadata": {
    "collapsed": true
   },
   "outputs": [],
   "source": [
    "class Worker():\n",
    "    \n",
    "    # gives birth (initializes) to a single worker\n",
    "    def __init__(self, id, Lambda=Lambda, w=w, employer=None):\n",
    "        self.id = id # the id of the worker\n",
    "        self.Lambda = Lambda # the separation rate of the worker\n",
    "        self.w = w # the wage of the worker\n",
    "        self.employer = employer # the firm for which the agent works\n",
    "    \n",
    "    # checks if the agent works for a firm and returns False if she is unemployed and True otherwise\n",
    "    def is_employed(self):\n",
    "        return not self.employer==None\n",
    "    \n",
    "    # register hiring\n",
    "    def hired(self, firm, wage, t):\n",
    "        self.employer = firm\n",
    "        self.w = wage\n",
    "        self.last_period = t\n",
    "    \n",
    "    # register separation\n",
    "    def separated(self, t):\n",
    "        self.employer = None\n",
    "        self.w = 0\n",
    "        self.last_period = t\n",
    "        \n",
    "    # specifies what the agent does in each step of the simulation\n",
    "    def step(self, t):\n",
    "        rand = rd.random() # draw a random number\n",
    "        if self.is_employed(): # check employment status\n",
    "            # the probability of becoming unemployed is the average of the separation rates of the worker and the firm.\n",
    "            # This is a bit of an arbitrary assumption but can be modified later. The point is to capture the effect\n",
    "            # that each counterpart has in the process of unemployment. Since we will assume homogenous agents, this\n",
    "            # specification does not change from simply assuming the general Lambda to be the only source of unemployment.\n",
    "            if rand < (self.Lambda + self.employer.Lambda)/2:\n",
    "                market.separation(self, t) # peform separation in the market\n",
    "        else:\n",
    "            if rand < market.matching_proba(): # check if the labor market frictions allow the match\n",
    "                firm = market.pick_firm() # pick a firm at random\n",
    "                wage = w # determine the wage\n",
    "                market.hiring(self, firm, wage, t) # perform the hiring in the market"
   ]
  },
  {
   "cell_type": "markdown",
   "metadata": {},
   "source": [
    "### Firms\n",
    "It is time to fill-in the step() method of the firm. In Pissarides' world, firms maximize their lifetime value of a filled job which leads to the optimality condition $y-w = \\frac{(r+\\lambda)yc}{M/V}$. We can solve this condition to obtain the number of vacancies $V$ in the economy, which divided by $N$ yields the contribution of the individual firm: $V_i = \\frac{M(y-w)}{Ncy(\\lambda+r)}$. This, of course, assumes that the firm knows the vacancies that all other firms are opening, and that all other firms are identical, hence, they open the same number of vacancies (otherwise we would not be in equilibrium)."
   ]
  },
  {
   "cell_type": "code",
   "execution_count": 12,
   "metadata": {
    "collapsed": false
   },
   "outputs": [],
   "source": [
    "class Firm():\n",
    "    \n",
    "    # initializes the firm\n",
    "    def __init__(self, id, Lambda=Lambda, c=c, y=y, r=r):\n",
    "        self.id = id\n",
    "        self.Lambda = Lambda\n",
    "        self.c = c\n",
    "        self.y = y\n",
    "        self.r = r\n",
    "        self.V = 1 # the number of vacancies \n",
    "        self.book = {}\n",
    "    \n",
    "    # register a newly hired worker with her wage and the period of hiring\n",
    "    def hire(self, worker, wage, t):\n",
    "        self.book[worker] = (wage, t)\n",
    "    \n",
    "    # remove the separated worker from the book\n",
    "    def separate(self, worker):\n",
    "        self.book.pop(worker)\n",
    "    \n",
    "    # compute the size (in number of employees)\n",
    "    def size(self):\n",
    "        return len(self.book)\n",
    "    \n",
    "    def open_vacancies(self):\n",
    "        U = stats.data['U']\n",
    "        M = stats.data['M']\n",
    "        self.V = M*(self.y-w)/(N*self.c*self.y*(self.Lambda+self.r))\n",
    "    \n",
    "    # specifies what the firm does in each step of the simulation\n",
    "    def step(self, t):\n",
    "        self.open_vacancies()"
   ]
  },
  {
   "cell_type": "markdown",
   "metadata": {},
   "source": [
    "### Market\n",
    "We update the matching function to consider the number of vacancies instead of the market tightness. We also modify the method for picking a firm at random. Since each firm has its own level of $V_i$, we have built in capability for heterogeneity. If a firm has a higher $V_i$ than the others, it that should be reflected in its number of matches. The new method accounts for this by selecting a firm at random, with a probability proportional to its $V_i$. In order to perform this, we will need to provide the market with the init() method so that it stores the list of probabilities associated to the $V_i$ of each firm, and a step() method to update them every period."
   ]
  },
  {
   "cell_type": "code",
   "execution_count": 13,
   "metadata": {
    "collapsed": false
   },
   "outputs": [],
   "source": [
    "class Market():\n",
    "    \n",
    "    # initializes the market\n",
    "    def __init__(self):\n",
    "        self.pVs = [1/N for firm in firms]\n",
    "        self.cVs = [sum(self.pVs[:x]) for x in range(1,len(self.pVs)+1)]\n",
    "    \n",
    "    # register a hiring in both the firm and the worker attributes\n",
    "    def hiring(self, worker, firm, wage, t):\n",
    "        worker.hired(firm, wage, t)\n",
    "        firm.hire(worker, wage, t)\n",
    "    \n",
    "    # register a separation in both the firm and the worker attributes\n",
    "    def separation(self, worker, t):\n",
    "        worker.employer.separate(worker)\n",
    "        worker.separated(t)\n",
    "    \n",
    "    # the aggregate matching function\n",
    "    def matches(self, U=1, V=1):\n",
    "        return Alpha*U + (1-Alpha)*V\n",
    "    \n",
    "    # the probability of a match\n",
    "    def matching_proba(self):\n",
    "        U = stats.data['U']\n",
    "        V = stats.data['V']\n",
    "        return self.matches(U, V)/U\n",
    "    \n",
    "    # update vacancies\n",
    "    def update_vacancies(self):\n",
    "        self.pVs = [V/stats.data['V'] for V in stats.data['Vs']]\n",
    "        self.cVs = [sum(self.pVs[:x]) for x in range(1,len(self.pVs)+1)]\n",
    "    \n",
    "    # pick a firm at random\n",
    "    def pick_firm(self):\n",
    "        return firms[bisect.bisect_right(self.cVs, rd.random())]\n",
    "    \n",
    "    # updates every period\n",
    "    def step(self):\n",
    "        self.update_vacancies()"
   ]
  },
  {
   "cell_type": "markdown",
   "metadata": {},
   "source": [
    "### Statistics Bureau\n",
    "We add a method for counting the total number of vacancies and keep track of it through time. We also update the theoretical predicitons. Now we have a prediction for the unemployment rate and for the number of vacancies as well."
   ]
  },
  {
   "cell_type": "code",
   "execution_count": 14,
   "metadata": {
    "collapsed": false
   },
   "outputs": [],
   "source": [
    "class Stats():\n",
    "    \n",
    "    # initializes the statistics bureau\n",
    "    def __init__(self):\n",
    "        self.data = {} # a dictionary that holds different data structures\n",
    "        self.data['u'] = 1 # the latest unemployment rate\n",
    "        self.data['U'] = 1 # the latest unemployment level\n",
    "        self.data['V'] = 1 # the number of vacancies\n",
    "        self.data['Vs'] = [1 for firm in firms]\n",
    "        self.data['M'] = 1 # the latest number of matches\n",
    "        self.data['ts_u'] = [] # list that stores the time series of the unemployment rate\n",
    "        self.data['ts_v'] = [] # list that stores the time series of the vacancy rate\n",
    "        \n",
    "    # counts the number of employed\n",
    "    def count_employed(self):\n",
    "        return sum([worker.is_employed() for worker in workers])\n",
    "    \n",
    "    # counts the number of unemployed\n",
    "    def count_unemployed(self):\n",
    "        return sum([not worker.is_employed() for worker in workers])\n",
    "    \n",
    "    # counts the vacancies per firm\n",
    "    def count_vacancies(self):\n",
    "        return [firm.V for firm in firms]\n",
    "    \n",
    "    # counts the total vacancies\n",
    "    def sum_vacancies(self):\n",
    "        return sum(count_vacancies())\n",
    "        \n",
    "    # computes the unemployment rate\n",
    "    def unemployment_rate(self):\n",
    "        return self.count_unemployed()/L\n",
    "    \n",
    "    # computes the average wage\n",
    "    def average_wage(self):\n",
    "        return sum([worker.w for worker in workers if worker.is_employed()])/self.count_employed()\n",
    "    \n",
    "    # computes the average firm size\n",
    "    def average_firm_size(self):\n",
    "        return sum([firm.size() for firm in firms])/N\n",
    "    \n",
    "    # what the statistics bureau does every period\n",
    "    def step(self):\n",
    "        self.data['Vs'] = self.count_vacancies()\n",
    "        self.data['V'] = sum(self.data['Vs'])\n",
    "        self.data['U'] = self.count_unemployed()\n",
    "        self.data['M'] = market.matches(self.data['U'], self.data['V'])\n",
    "        self.data['u'] = self.data['U']/L\n",
    "        self.data['ts_u'].append(self.data['u'])\n",
    "        self.data['ts_v'].append(self.data['V']/L)\n",
    "    \n",
    "    # the theoretical unemployment rate from Pissarides' model\n",
    "    def theory_u(self):\n",
    "        return (Lambda*(w-w*Alpha+y*(-1+Alpha+c*(r+Lambda))))/(-(w-y)*(-1+Alpha)*Lambda+c*y*(r+Lambda)*(Alpha+Lambda))\n",
    "    \n",
    "    # the theoretical unemployment rate from Pissarides' model\n",
    "    def theory_v(self):\n",
    "        return ((w-y)*Alpha*Lambda)/((w-y)*(-1+Alpha)*Lambda-c*y*(r+Lambda)*(Alpha+Lambda))"
   ]
  },
  {
   "cell_type": "markdown",
   "metadata": {},
   "source": [
    "## Execution"
   ]
  },
  {
   "cell_type": "markdown",
   "metadata": {},
   "source": [
    "### Initialization"
   ]
  },
  {
   "cell_type": "code",
   "execution_count": 15,
   "metadata": {
    "collapsed": false
   },
   "outputs": [],
   "source": [
    "workers = [Worker(id) for id in range(L)] # list of workers parameterized acording to the Parameters section\n",
    "firms = [Firm(id) for id in range(N)] # list of firms parameterized acording to the Parameters section\n",
    "agents = workers + firms # make a joint list of workers and firms\n",
    "rd.shuffle(agents) # randomize the order to the agents in the list\n",
    "market = Market() # our market object\n",
    "stats = Stats() # our statistics bureau"
   ]
  },
  {
   "cell_type": "markdown",
   "metadata": {},
   "source": [
    "### Iteration"
   ]
  },
  {
   "cell_type": "code",
   "execution_count": 16,
   "metadata": {
    "collapsed": false
   },
   "outputs": [],
   "source": [
    "for t in range(max_t):\n",
    "    [agent.step(t) for agent in agents]\n",
    "    stats.step() # the stats agent perform its duty\n",
    "    market.step()"
   ]
  },
  {
   "cell_type": "markdown",
   "metadata": {},
   "source": [
    "## Plotting"
   ]
  },
  {
   "cell_type": "markdown",
   "metadata": {},
   "source": [
    "### Unemployment Rate"
   ]
  },
  {
   "cell_type": "code",
   "execution_count": 17,
   "metadata": {
    "collapsed": false
   },
   "outputs": [
    {
     "data": {
      "text/plain": [
       "<matplotlib.text.Text at 0x105083c90>"
      ]
     },
     "execution_count": 17,
     "metadata": {},
     "output_type": "execute_result"
    },
    {
     "data": {
      "image/png": "[encoded data removed]",
      "text/plain": [
       "<matplotlib.figure.Figure at 0x104f7c750>"
      ]
     },
     "metadata": {},
     "output_type": "display_data"
    }
   ],
   "source": [
    "plt.plot(stats.data['ts_u'], linewidth=.5) # plot the time series collected by the stats agent\n",
    "plt.plot([stats.theory_u() for i in range(max_t)], 'r', linewidth=3) # plot the analytical prediction\n",
    "plt.ylim([min(stats.data['ts_u'][1::]), max(stats.data['ts_u'][1::])])\n",
    "plt.xlabel('time')\n",
    "plt.ylabel('unemployment rate')\n",
    "plt.title('evolution of the unemployment rate')"
   ]
  },
  {
   "cell_type": "markdown",
   "metadata": {},
   "source": [
    "###Vacancy Rate"
   ]
  },
  {
   "cell_type": "code",
   "execution_count": 21,
   "metadata": {
    "collapsed": false
   },
   "outputs": [
    {
     "data": {
      "text/plain": [
       "<matplotlib.text.Text at 0x105629d50>"
      ]
     },
     "execution_count": 21,
     "metadata": {},
     "output_type": "execute_result"
    },
    {
     "data": {
      "image/png": "[encoded data removed]",
      "text/plain": [
       "<matplotlib.figure.Figure at 0x1055cf290>"
      ]
     },
     "metadata": {},
     "output_type": "display_data"
    }
   ],
   "source": [
    "plt.plot(stats.data['ts_v'], linewidth=.5) # plot the time series collected by the stats agent\n",
    "plt.plot([stats.theory_v() for i in range(max_t)], 'r', linewidth=3) # plot the analytical prediction\n",
    "plt.ylim([min(stats.data['ts_v'][1::]), max(stats.data['ts_v'][1::])])\n",
    "plt.xlabel('time')\n",
    "plt.ylabel('vacancy rate')\n",
    "plt.title('evolution of the vacancy rate')"
   ]
  },
  {
   "cell_type": "markdown",
   "metadata": {},
   "source": [
    "### Firm Size Distribution"
   ]
  },
  {
   "cell_type": "code",
   "execution_count": 19,
   "metadata": {
    "collapsed": false
   },
   "outputs": [
    {
     "data": {
      "text/plain": [
       "<matplotlib.text.Text at 0x105430310>"
      ]
     },
     "execution_count": 19,
     "metadata": {},
     "output_type": "execute_result"
    },
    {
     "data": {
      "image/png": "[encoded data removed]",
      "text/plain": [
       "<matplotlib.figure.Figure at 0x104f7ce10>"
      ]
     },
     "metadata": {},
     "output_type": "display_data"
    }
   ],
   "source": [
    "plt.hist([firm.size() for firm in firms]) # plot the time series collected by the stats agent\n",
    "plt.xlabel('number of employees')\n",
    "plt.ylabel('frequency')\n",
    "plt.title('firm size distribution')"
   ]
  },
  {
   "cell_type": "markdown",
   "metadata": {},
   "source": [
    "## Conclusion\n",
    "We have expanded the to include vacancy formation in each firm from their optimization decisions. Firms do not know the form of the matching functions (as in Pissarides), but instead, they observe the latest information about the number of matches recorded by the stats bureau and use it with their private information about costs and productivity in order to determine their optimal $V_i$. This process converges to the rational expectations equilibrium since we assume that firms know the true parameters of the model ($\\lambda_i=\\lambda$). However, this might change later if we introduce heterogeneity that makes their beliefs inconsistent with the real world. The next step is to incorporate some behavior in our workers in order to generate wages endogenously."
   ]
  }
 ],
 "metadata": {
  "kernelspec": {
   "display_name": "Python 2",
   "language": "python",
   "name": "python2"
  },
  "language_info": {
   "codemirror_mode": {
    "name": "ipython",
    "version": 2
   },
   "file_extension": ".py",
   "mimetype": "text/x-python",
   "name": "python",
   "nbconvert_exporter": "python",
   "pygments_lexer": "ipython2",
   "version": "2.7.9"
  }
 },
 "nbformat": 4,
 "nbformat_minor": 0
}
